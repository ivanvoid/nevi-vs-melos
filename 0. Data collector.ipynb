{
 "cells": [
  {
   "cell_type": "markdown",
   "metadata": {},
   "source": [
    "# Data collector\n",
    "Data loader from ISIC"
   ]
  },
  {
   "cell_type": "code",
   "execution_count": 4,
   "metadata": {},
   "outputs": [],
   "source": [
    "''' \n",
    "Load libs \n",
    "'''\n",
    "import csv\n",
    "import os\n",
    "import json\n",
    "import numpy as np\n",
    "import pandas as pd\n",
    "from tqdm.notebook import tqdm_notebook as tqdm \n",
    "\n",
    "from concurrent.futures import ThreadPoolExecutor\n",
    "n_threads = 32"
   ]
  },
  {
   "cell_type": "markdown",
   "metadata": {},
   "source": [
    "# Make ISIC API requester "
   ]
  },
  {
   "cell_type": "code",
   "execution_count": 5,
   "metadata": {},
   "outputs": [],
   "source": [
    "'''\n",
    "Make ISIC Api request class\n",
    "'''\n",
    "import requests\n",
    "\n",
    "class ISICApi(object):\n",
    "    def __init__(self, hostname='https://isic-archive.com',\n",
    "                 username=None, password=None):\n",
    "        self.baseUrl = f'{hostname}/api/v1'\n",
    "        self.authToken = None\n",
    "\n",
    "        if username is not None:\n",
    "            if password is None:\n",
    "                password = input(f'Password for user \"{username}\":')\n",
    "            self.authToken = self._login(username, password)\n",
    "\n",
    "    def _makeUrl(self, endpoint):\n",
    "        return f'{self.baseUrl}/{endpoint}'\n",
    "\n",
    "    def _login(self, username, password):\n",
    "        authResponse = requests.get(\n",
    "            self._makeUrl('user/authentication'),\n",
    "            auth=(username, password)\n",
    "        )\n",
    "        if not authResponse.ok:\n",
    "            raise Exception(f'Login error: {authResponse.json()[\"message\"]}')\n",
    "\n",
    "        authToken = authResponse.json()['authToken']['token']\n",
    "        return authToken\n",
    "\n",
    "    def get(self, endpoint):\n",
    "        url = self._makeUrl(endpoint)\n",
    "        headers = {'Girder-Token': self.authToken} if self.authToken else None\n",
    "        return requests.get(url, headers=headers)\n",
    "\n",
    "    def getJson(self, endpoint):\n",
    "        return self.get(endpoint).json()\n",
    "\n",
    "    def getJsonList(self, endpoint):\n",
    "        endpoint += '&' if '?' in endpoint else '?'\n",
    "        LIMIT = 50\n",
    "        offset = 0\n",
    "        while True:\n",
    "            resp = self.get(\n",
    "                f'{endpoint}limit={LIMIT:d}&offset={offset:d}'\n",
    "            ).json()\n",
    "            if not resp:\n",
    "                break\n",
    "            for elem in resp:\n",
    "                yield elem\n",
    "            offset += LIMIT\n"
   ]
  },
  {
   "cell_type": "markdown",
   "metadata": {},
   "source": [
    "# Get list of images names"
   ]
  },
  {
   "cell_type": "code",
   "execution_count": 17,
   "metadata": {},
   "outputs": [
    {
     "name": "stdout",
     "output_type": "stream",
     "text": [
      "Requested 500 images names\n"
     ]
    }
   ],
   "source": [
    "#Insert Username and Password Below\n",
    "api = ISICApi(username=\"veaxvoid\", password=\"ZXCASD123qweasd\")\n",
    "\n",
    "# SONIC 558 - 9867\n",
    "limit = 500\n",
    "offset = 9868\n",
    "\n",
    "image_list = api.getJson('image?limit={}&offset={}&sort=name'.format(limit, offset))\n",
    "print('Requested {} images names'.format(len(image_list)))"
   ]
  },
  {
   "cell_type": "code",
   "execution_count": 18,
   "metadata": {},
   "outputs": [],
   "source": [
    "'''\n",
    "Spesify output folders\n",
    "'''\n",
    "meta_dir = 'ISIC'\n",
    "img_dir = meta_dir + '/images'\n",
    "mask_dir = meta_dir + '/masks'\n",
    "img_info_dir = meta_dir + '/info_images'\n",
    "mask_info_dir = meta_dir + '/info_masks'\n",
    "imgs_filename = 'imagedata'\n",
    "mask_filename = 'masksdata'\n",
    "\n",
    "if not os.path.exists(meta_dir): os.makedirs(meta_dir)\n",
    "if not os.path.exists(img_dir): os.makedirs(img_dir)\n",
    "if not os.path.exists(mask_dir): os.makedirs(mask_dir)\n",
    "if not os.path.exists(img_info_dir): os.makedirs(img_info_dir)\n",
    "if not os.path.exists(mask_info_dir): os.makedirs(mask_info_dir)"
   ]
  },
  {
   "cell_type": "code",
   "execution_count": 19,
   "metadata": {},
   "outputs": [
    {
     "data": {
      "text/plain": [
       "'\\nLoad info for each img # 2\\n'"
      ]
     },
     "execution_count": 19,
     "metadata": {},
     "output_type": "execute_result"
    }
   ],
   "source": [
    "'''\n",
    "Load info for each img # 2\n",
    "'''\n",
    "# with ThreadPoolExecutor(n_threads) as executor:\n"
   ]
  },
  {
   "cell_type": "code",
   "execution_count": 20,
   "metadata": {
    "scrolled": true
   },
   "outputs": [
    {
     "name": "stdout",
     "output_type": "stream",
     "text": [
      "done.\n"
     ]
    }
   ],
   "source": [
    "'''\n",
    "Load info for each img\n",
    "'''\n",
    "def load_img_info(img_id, img_name):\n",
    "    image_info = api.getJson('image/{}'.format(img_id))\n",
    "    \n",
    "    if image_info['dataset']['name'] != 'SONIC':\n",
    "        file_path = os.path.join(img_info_dir, img_name+'.json')\n",
    "        file = open(file_path, \"w\")\n",
    "        json.dump(image_info, file)\n",
    "        file.close()\n",
    "    \n",
    "imgs_id = [info['_id'] for info in image_list]\n",
    "imgs_name = [info['name'] for info in image_list]\n",
    "\n",
    "with ThreadPoolExecutor(n_threads) as e: \n",
    "    e.map(load_img_info, imgs_id, imgs_name, timeout=60)\n",
    "print('done.')"
   ]
  },
  {
   "cell_type": "code",
   "execution_count": 21,
   "metadata": {},
   "outputs": [
    {
     "name": "stdout",
     "output_type": "stream",
     "text": [
      "Number of valid images: 500\n"
     ]
    }
   ],
   "source": [
    "'''\n",
    "Collect all image info from json files in to csv table\n",
    "'''\n",
    "# read filenames in infoimages dir\n",
    "infoimgs_filenames = sorted([f for f in os.listdir(img_info_dir)])\n",
    "\n",
    "image_details = []\n",
    "\n",
    "for img_name in infoimgs_filenames:\n",
    "    file_path = os.path.join(img_info_dir, img_name)\n",
    "    file = open(file_path, 'r')\n",
    "    info = json.load(file)\n",
    "    file.close()\n",
    "    \n",
    "    image_details += [info]\n",
    "\n",
    "print('Number of valid images: {}'.format(len(image_details)))"
   ]
  },
  {
   "cell_type": "code",
   "execution_count": 22,
   "metadata": {},
   "outputs": [
    {
     "name": "stdout",
     "output_type": "stream",
     "text": [
      "Writing metadata to CSV: imagedata.csv\n"
     ]
    }
   ],
   "source": [
    "'''\n",
    "Image info to csv\n",
    "'''\n",
    "file_path = os.path.join(meta_dir, imgs_filename+'.csv')\n",
    "\n",
    "# Determine the union of all image metadata fields\n",
    "metadata_fields = set(\n",
    "    field\n",
    "    for image_detail in image_details\n",
    "    for field in image_detail['meta']['clinical'].keys()\n",
    ")\n",
    "metadata_fields = ['isic_name','isic_id'] + sorted(metadata_fields) + ['dataset_name']\n",
    "\n",
    "# Write the metadata to a CSV\n",
    "print('Writing metadata to CSV: {}'.format(imgs_filename+'.csv'))\n",
    "\n",
    "with open(file_path, 'w') as outputStream:\n",
    "    csvWriter = csv.DictWriter(outputStream, metadata_fields)\n",
    "    csvWriter.writeheader()\n",
    "    \n",
    "    for image_detail in image_details:\n",
    "        row_dict = image_detail['meta']['clinical'].copy()\n",
    "        row_dict['isic_name'] = image_detail['name']\n",
    "        row_dict['isic_id'] = image_detail['_id']\n",
    "        row_dict['dataset_name'] = image_detail['dataset']['name']\n",
    "        csvWriter.writerow(row_dict)"
   ]
  },
  {
   "cell_type": "code",
   "execution_count": 23,
   "metadata": {},
   "outputs": [
    {
     "data": {
      "text/html": [
       "<div>\n",
       "<style scoped>\n",
       "    .dataframe tbody tr th:only-of-type {\n",
       "        vertical-align: middle;\n",
       "    }\n",
       "\n",
       "    .dataframe tbody tr th {\n",
       "        vertical-align: top;\n",
       "    }\n",
       "\n",
       "    .dataframe thead th {\n",
       "        text-align: right;\n",
       "    }\n",
       "</style>\n",
       "<table border=\"1\" class=\"dataframe\">\n",
       "  <thead>\n",
       "    <tr style=\"text-align: right;\">\n",
       "      <th></th>\n",
       "      <th>isic_name</th>\n",
       "      <th>isic_id</th>\n",
       "      <th>age_approx</th>\n",
       "      <th>anatom_site_general</th>\n",
       "      <th>benign_malignant</th>\n",
       "      <th>clin_size_long_diam_mm</th>\n",
       "      <th>diagnosis</th>\n",
       "      <th>diagnosis_confirm_type</th>\n",
       "      <th>family_hx_mm</th>\n",
       "      <th>melanocytic</th>\n",
       "      <th>personal_hx_mm</th>\n",
       "      <th>sex</th>\n",
       "      <th>dataset_name</th>\n",
       "    </tr>\n",
       "  </thead>\n",
       "  <tbody>\n",
       "    <tr>\n",
       "      <th>495</th>\n",
       "      <td>ISIC_0010363</td>\n",
       "      <td>558d62ecbae47801cf734a59</td>\n",
       "      <td>55</td>\n",
       "      <td>posterior torso</td>\n",
       "      <td>benign</td>\n",
       "      <td>15.0</td>\n",
       "      <td>nevus</td>\n",
       "      <td>single image expert consensus</td>\n",
       "      <td>False</td>\n",
       "      <td>True</td>\n",
       "      <td>False</td>\n",
       "      <td>male</td>\n",
       "      <td>MSK-2</td>\n",
       "    </tr>\n",
       "    <tr>\n",
       "      <th>496</th>\n",
       "      <td>ISIC_0010364</td>\n",
       "      <td>558d62edbae47801cf734a5c</td>\n",
       "      <td>40</td>\n",
       "      <td>posterior torso</td>\n",
       "      <td>malignant</td>\n",
       "      <td>7.0</td>\n",
       "      <td>melanoma</td>\n",
       "      <td>histopathology</td>\n",
       "      <td>False</td>\n",
       "      <td>True</td>\n",
       "      <td>False</td>\n",
       "      <td>male</td>\n",
       "      <td>MSK-2</td>\n",
       "    </tr>\n",
       "    <tr>\n",
       "      <th>497</th>\n",
       "      <td>ISIC_0010365</td>\n",
       "      <td>558d62eebae47801cf734a5f</td>\n",
       "      <td>65</td>\n",
       "      <td>posterior torso</td>\n",
       "      <td>benign</td>\n",
       "      <td>5.0</td>\n",
       "      <td>nevus</td>\n",
       "      <td>histopathology</td>\n",
       "      <td>False</td>\n",
       "      <td>True</td>\n",
       "      <td>True</td>\n",
       "      <td>female</td>\n",
       "      <td>MSK-2</td>\n",
       "    </tr>\n",
       "    <tr>\n",
       "      <th>498</th>\n",
       "      <td>ISIC_0010366</td>\n",
       "      <td>558d62eebae47801cf734a62</td>\n",
       "      <td>85</td>\n",
       "      <td>lower extremity</td>\n",
       "      <td>malignant</td>\n",
       "      <td>28.0</td>\n",
       "      <td>melanoma</td>\n",
       "      <td>histopathology</td>\n",
       "      <td>False</td>\n",
       "      <td>True</td>\n",
       "      <td>True</td>\n",
       "      <td>female</td>\n",
       "      <td>MSK-2</td>\n",
       "    </tr>\n",
       "    <tr>\n",
       "      <th>499</th>\n",
       "      <td>ISIC_0010367</td>\n",
       "      <td>558d62efbae47801cf734a65</td>\n",
       "      <td>60</td>\n",
       "      <td>lower extremity</td>\n",
       "      <td>benign</td>\n",
       "      <td>3.0</td>\n",
       "      <td>nevus</td>\n",
       "      <td>histopathology</td>\n",
       "      <td>False</td>\n",
       "      <td>True</td>\n",
       "      <td>True</td>\n",
       "      <td>female</td>\n",
       "      <td>MSK-2</td>\n",
       "    </tr>\n",
       "  </tbody>\n",
       "</table>\n",
       "</div>"
      ],
      "text/plain": [
       "        isic_name                   isic_id  age_approx anatom_site_general  \\\n",
       "495  ISIC_0010363  558d62ecbae47801cf734a59          55     posterior torso   \n",
       "496  ISIC_0010364  558d62edbae47801cf734a5c          40     posterior torso   \n",
       "497  ISIC_0010365  558d62eebae47801cf734a5f          65     posterior torso   \n",
       "498  ISIC_0010366  558d62eebae47801cf734a62          85     lower extremity   \n",
       "499  ISIC_0010367  558d62efbae47801cf734a65          60     lower extremity   \n",
       "\n",
       "    benign_malignant  clin_size_long_diam_mm diagnosis  \\\n",
       "495           benign                    15.0     nevus   \n",
       "496        malignant                     7.0  melanoma   \n",
       "497           benign                     5.0     nevus   \n",
       "498        malignant                    28.0  melanoma   \n",
       "499           benign                     3.0     nevus   \n",
       "\n",
       "            diagnosis_confirm_type family_hx_mm melanocytic  personal_hx_mm  \\\n",
       "495  single image expert consensus        False        True           False   \n",
       "496                 histopathology        False        True           False   \n",
       "497                 histopathology        False        True            True   \n",
       "498                 histopathology        False        True            True   \n",
       "499                 histopathology        False        True            True   \n",
       "\n",
       "        sex dataset_name  \n",
       "495    male        MSK-2  \n",
       "496    male        MSK-2  \n",
       "497  female        MSK-2  \n",
       "498  female        MSK-2  \n",
       "499  female        MSK-2  "
      ]
     },
     "execution_count": 23,
     "metadata": {},
     "output_type": "execute_result"
    }
   ],
   "source": [
    "file_path = os.path.join(meta_dir, imgs_filename+'.csv')\n",
    "data = pd.read_csv(file_path)\n",
    "\n",
    "images_ids = list(data['isic_id'])\n",
    "images_names = list(data['isic_name'])\n",
    "\n",
    "data.tail()"
   ]
  },
  {
   "cell_type": "code",
   "execution_count": 24,
   "metadata": {},
   "outputs": [
    {
     "name": "stdout",
     "output_type": "stream",
     "text": [
      "Data summary:\n"
     ]
    },
    {
     "data": {
      "text/plain": [
       "{'melanoma': 98,\n",
       " 'nevus': 332,\n",
       " 'solar lentigo': 14,\n",
       " nan: 0,\n",
       " 'lentigo NOS': 26,\n",
       " 'atypical melanocytic proliferation': 4,\n",
       " 'lentigo simplex': 5}"
      ]
     },
     "execution_count": 24,
     "metadata": {},
     "output_type": "execute_result"
    }
   ],
   "source": [
    "info_sum = {d:(data['diagnosis'] == d).sum() for d in data['diagnosis'].unique()}\n",
    "print('Data summary:')\n",
    "info_sum"
   ]
  },
  {
   "cell_type": "markdown",
   "metadata": {},
   "source": [
    "# Load images"
   ]
  },
  {
   "cell_type": "code",
   "execution_count": 25,
   "metadata": {},
   "outputs": [
    {
     "name": "stdout",
     "output_type": "stream",
     "text": [
      "done.\n"
     ]
    }
   ],
   "source": [
    "def load_imgs(img_id, img_name):\n",
    "    img_file = api.get('image/{}/download'.format(img_id))\n",
    "    img_file.raise_for_status()\n",
    "    file_path = os.path.join(img_dir, '{}.png'.format(img_name))\n",
    "  \n",
    "    with open(file_path, 'wb') as out_stream:\n",
    "        for chunk in img_file:\n",
    "            out_stream.write(chunk)\n",
    "    \n",
    "with ThreadPoolExecutor(n_threads) as e: \n",
    "    e.map(load_imgs, images_ids, images_names, timeout=60)\n",
    "print('done.')"
   ]
  },
  {
   "cell_type": "markdown",
   "metadata": {},
   "source": [
    "# Load segmentation masks "
   ]
  },
  {
   "cell_type": "code",
   "execution_count": 26,
   "metadata": {},
   "outputs": [
    {
     "name": "stdout",
     "output_type": "stream",
     "text": [
      "done.\n"
     ]
    }
   ],
   "source": [
    "'''\n",
    "Load segmentation data\n",
    "'''\n",
    "def load_mask_info(img_id, img_name):\n",
    "    segmentation_data = api.getJson('segmentation?imageId={}'.format(img_id))\n",
    "    \n",
    "    file_path = os.path.join(mask_info_dir, img_name+'.json')\n",
    "    file = open(file_path, \"w\")\n",
    "    json.dump(segmentation_data, file)\n",
    "    file.close()\n",
    "    \n",
    "with ThreadPoolExecutor(n_threads) as e: \n",
    "    e.map(load_mask_info, images_ids, images_names, timeout=60)\n",
    "print('done.')"
   ]
  },
  {
   "cell_type": "code",
   "execution_count": 27,
   "metadata": {},
   "outputs": [
    {
     "name": "stdout",
     "output_type": "stream",
     "text": [
      "Number of segmentation info files: 500\n"
     ]
    }
   ],
   "source": [
    "'''\n",
    "Collect all VALID masks info from json files \n",
    "'''\n",
    "segmentation_details = []\n",
    "\n",
    "for img_name in images_names:\n",
    "    file_path = os.path.join(mask_info_dir, img_name+'.json')\n",
    "    file = open(file_path, 'r')\n",
    "    info = json.load(file)\n",
    "    file.close()\n",
    "    \n",
    "    if info:\n",
    "        if not info[0]['failed']:\n",
    "            segmentation_details += [info[0]]\n",
    "            segmentation_details[-1]['name'] = img_name\n",
    "\n",
    "print('Number of segmentation info files: {}'.format(len(segmentation_details)))"
   ]
  },
  {
   "cell_type": "code",
   "execution_count": 28,
   "metadata": {},
   "outputs": [
    {
     "name": "stdout",
     "output_type": "stream",
     "text": [
      "Writing metadata to CSV: masksdata.csv\n"
     ]
    }
   ],
   "source": [
    "'''\n",
    "Masks info to csv\n",
    "'''\n",
    "file_path = os.path.join(meta_dir, mask_filename+'.csv')\n",
    "\n",
    "# Determine the union of all image metadata fields\n",
    "metadata_fields = set(\n",
    "    segmentation_details[0].keys()\n",
    ")\n",
    "\n",
    "metadata_fields = sorted(metadata_fields)\n",
    "\n",
    "# Write the metadata to a CSV\n",
    "print('Writing metadata to CSV: {}'.format(mask_filename+'.csv'))\n",
    "\n",
    "with open(file_path, 'w') as outputStream:\n",
    "    csvWriter = csv.DictWriter(outputStream, metadata_fields)\n",
    "    csvWriter.writeheader()\n",
    "    \n",
    "    k=-1\n",
    "    for info in segmentation_details:\n",
    "        k+=1\n",
    "        row_dict = info.copy()\n",
    "        csvWriter.writerow(row_dict)\n"
   ]
  },
  {
   "cell_type": "code",
   "execution_count": 30,
   "metadata": {},
   "outputs": [
    {
     "data": {
      "text/html": [
       "<div>\n",
       "<style scoped>\n",
       "    .dataframe tbody tr th:only-of-type {\n",
       "        vertical-align: middle;\n",
       "    }\n",
       "\n",
       "    .dataframe tbody tr th {\n",
       "        vertical-align: top;\n",
       "    }\n",
       "\n",
       "    .dataframe thead th {\n",
       "        text-align: right;\n",
       "    }\n",
       "</style>\n",
       "<table border=\"1\" class=\"dataframe\">\n",
       "  <thead>\n",
       "    <tr style=\"text-align: right;\">\n",
       "      <th></th>\n",
       "      <th>_id</th>\n",
       "      <th>created</th>\n",
       "      <th>failed</th>\n",
       "      <th>name</th>\n",
       "      <th>skill</th>\n",
       "    </tr>\n",
       "  </thead>\n",
       "  <tbody>\n",
       "    <tr>\n",
       "      <th>495</th>\n",
       "      <td>55a911129fc3c156bd715909</td>\n",
       "      <td>2015-07-17T14:28:34.697000+00:00</td>\n",
       "      <td>False</td>\n",
       "      <td>ISIC_0010363</td>\n",
       "      <td>expert</td>\n",
       "    </tr>\n",
       "    <tr>\n",
       "      <th>496</th>\n",
       "      <td>55a90e5a9fc3c156bd715903</td>\n",
       "      <td>2015-07-17T14:16:58.709000+00:00</td>\n",
       "      <td>False</td>\n",
       "      <td>ISIC_0010364</td>\n",
       "      <td>expert</td>\n",
       "    </tr>\n",
       "    <tr>\n",
       "      <th>497</th>\n",
       "      <td>55a90e4a9fc3c156bd7158fd</td>\n",
       "      <td>2015-07-17T14:16:42.064000+00:00</td>\n",
       "      <td>False</td>\n",
       "      <td>ISIC_0010365</td>\n",
       "      <td>expert</td>\n",
       "    </tr>\n",
       "    <tr>\n",
       "      <th>498</th>\n",
       "      <td>55dba8329fc3c10470dbb0d7</td>\n",
       "      <td>2015-08-24T23:26:42.455000+00:00</td>\n",
       "      <td>False</td>\n",
       "      <td>ISIC_0010366</td>\n",
       "      <td>expert</td>\n",
       "    </tr>\n",
       "    <tr>\n",
       "      <th>499</th>\n",
       "      <td>55a90e1c9fc3c156bd7158f1</td>\n",
       "      <td>2015-07-17T14:15:56.359000+00:00</td>\n",
       "      <td>False</td>\n",
       "      <td>ISIC_0010367</td>\n",
       "      <td>expert</td>\n",
       "    </tr>\n",
       "  </tbody>\n",
       "</table>\n",
       "</div>"
      ],
      "text/plain": [
       "                          _id                           created  failed  \\\n",
       "495  55a911129fc3c156bd715909  2015-07-17T14:28:34.697000+00:00   False   \n",
       "496  55a90e5a9fc3c156bd715903  2015-07-17T14:16:58.709000+00:00   False   \n",
       "497  55a90e4a9fc3c156bd7158fd  2015-07-17T14:16:42.064000+00:00   False   \n",
       "498  55dba8329fc3c10470dbb0d7  2015-08-24T23:26:42.455000+00:00   False   \n",
       "499  55a90e1c9fc3c156bd7158f1  2015-07-17T14:15:56.359000+00:00   False   \n",
       "\n",
       "             name   skill  \n",
       "495  ISIC_0010363  expert  \n",
       "496  ISIC_0010364  expert  \n",
       "497  ISIC_0010365  expert  \n",
       "498  ISIC_0010366  expert  \n",
       "499  ISIC_0010367  expert  "
      ]
     },
     "execution_count": 30,
     "metadata": {},
     "output_type": "execute_result"
    }
   ],
   "source": [
    "masks_names = list(data['name'])\n",
    "masks_id = list(data['_id'])\n",
    "\n",
    "data = pd.read_csv(file_path)\n",
    "data.tail()"
   ]
  },
  {
   "cell_type": "code",
   "execution_count": 31,
   "metadata": {},
   "outputs": [
    {
     "name": "stdout",
     "output_type": "stream",
     "text": [
      "done.\n"
     ]
    }
   ],
   "source": [
    "def load_mask(mask_id, img_name):\n",
    "    img_file = api.get('segmentation/{}/mask'.format(mask_id))\n",
    "    img_file.raise_for_status()\n",
    "    file_path = os.path.join(mask_dir, '{}_mask.png'.format(img_name))\n",
    "\n",
    "    with open(file_path, 'wb') as out_stream:\n",
    "        for chunk in img_file:\n",
    "            out_stream.write(chunk)    \n",
    "            \n",
    "with ThreadPoolExecutor(n_threads) as e: \n",
    "    e.map(load_mask, masks_id, masks_names, timeout=60)\n",
    "print('done.')"
   ]
  }
 ],
 "metadata": {
  "kernelspec": {
   "display_name": "Python 3",
   "language": "python",
   "name": "python3"
  },
  "language_info": {
   "codemirror_mode": {
    "name": "ipython",
    "version": 3
   },
   "file_extension": ".py",
   "mimetype": "text/x-python",
   "name": "python",
   "nbconvert_exporter": "python",
   "pygments_lexer": "ipython3",
   "version": "3.7.6"
  }
 },
 "nbformat": 4,
 "nbformat_minor": 4
}
