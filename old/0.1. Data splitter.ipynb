{
 "cells": [
  {
   "cell_type": "code",
   "execution_count": 6,
   "metadata": {},
   "outputs": [],
   "source": [
    "''' \n",
    "Load libs \n",
    "'''\n",
    "import os, shutil\n",
    "import pandas as pd"
   ]
  },
  {
   "cell_type": "code",
   "execution_count": 7,
   "metadata": {},
   "outputs": [],
   "source": [
    "'''\n",
    "Specify folders\n",
    "'''\n",
    "original_dataset_dir = 'ISIC'\n",
    "original_images_dir = os.path.join(original_dataset_dir, 'images')\n",
    "original_masks_dir = os.path.join(original_dataset_dir, 'masks')\n",
    "\n",
    "base_dir = 'data'\n",
    "\n",
    "train_dir = os.path.join(base_dir, 'train')\n",
    "validation_dir = os.path.join(base_dir, 'validation')\n",
    "test_dir = os.path.join(base_dir, 'test')\n",
    "\n",
    "\n",
    "train_images_dir = os.path.join(train_dir, 'images')\n",
    "train_masks_dir = os.path.join(train_dir, 'masks')\n",
    "\n",
    "validation_images_dir = os.path.join(validation_dir, 'images')\n",
    "validation_masks_dir = os.path.join(validation_dir, 'masks')\n",
    "\n",
    "test_images_dir = os.path.join(test_dir, 'images')\n",
    "test_masks_dir = os.path.join(test_dir, 'masks')\n"
   ]
  },
  {
   "cell_type": "code",
   "execution_count": 8,
   "metadata": {},
   "outputs": [],
   "source": [
    "'''\n",
    "Create folders\n",
    "'''\n",
    "def mkdir(dir_path): \n",
    "    if not os.path.exists(dir_path): os.makedirs(dir_path)\n",
    "\n",
    "mkdir(base_dir)\n",
    "\n",
    "mkdir(train_dir)\n",
    "mkdir(validation_dir)\n",
    "mkdir(test_dir)\n",
    "\n",
    "mkdir(train_images_dir)\n",
    "mkdir(train_masks_dir)\n",
    "mkdir(validation_images_dir)\n",
    "mkdir(validation_masks_dir)\n",
    "mkdir(test_images_dir)\n",
    "mkdir(test_masks_dir)"
   ]
  },
  {
   "cell_type": "code",
   "execution_count": 9,
   "metadata": {},
   "outputs": [
    {
     "name": "stdout",
     "output_type": "stream",
     "text": [
      "Total images:     4520\n",
      "Train split:      3164\n",
      "Validation split: 452\n",
      "Test split:       904\n",
      "-----------------------\n",
      "Split sum:        4520\n"
     ]
    }
   ],
   "source": [
    "'''\n",
    "Get names of images and masks with split\n",
    "'''\n",
    "split = {'train':0.7, 'validation':0.1, 'test':0.2} # must sumup to 1\n",
    "\n",
    "masksinfo_file_path = os.path.join(original_dataset_dir, 'masksdata.csv')\n",
    "masks_info = pd.read_csv(masksinfo_file_path)\n",
    "\n",
    "images_names = list(masks_info['name'])\n",
    "# masks_filenames = [name+'_mask' for name in images_names] \n",
    "\n",
    "train_split = int(len(images_names) * split['train'])\n",
    "validation_split = int(len(images_names) * split['validation'])\n",
    "test_split = int(len(images_names) * split['test'])\n",
    "\n",
    "train_images_filenames = images_names[:train_split]\n",
    "validation_images_filenames = images_names[train_split:train_split+validation_split]\n",
    "test_images_filenames = images_names[train_split+validation_split:]\n",
    "\n",
    "print('Total images:     {}'.format(len(images_names)))\n",
    "print('Train split:      {}'.format(len(train_images_filenames)))\n",
    "print('Validation split: {}'.format(len(validation_images_filenames)))\n",
    "print('Test split:       {}'.format(len(test_images_filenames)))\n",
    "print('-'*23)\n",
    "print('Split sum:        {}'.format(len(train_images_filenames)+len(validation_images_filenames)+len(test_images_filenames)))"
   ]
  },
  {
   "cell_type": "code",
   "execution_count": null,
   "metadata": {},
   "outputs": [],
   "source": [
    "'''\n",
    "Copy images and masks into the folders\n",
    "'''\n",
    "# Copy train images and masks\n",
    "for image_name in train_images_filenames:\n",
    "    src_img = os.path.join(original_images_dir, image_name+'.png')\n",
    "    dst_img = os.path.join(train_images_dir, image_name+'.png')\n",
    "    \n",
    "    src_mask = os.path.join(original_masks_dir, image_name+'_mask.png')\n",
    "    dst_mask = os.path.join(train_masks_dir, image_name+'_mask.png')\n",
    "    \n",
    "    shutil.copyfile(src_img, dst_img) \n",
    "    shutil.copyfile(src_mask, dst_mask) \n",
    "    \n",
    "# Copy validation images and masks\n",
    "for image_name in validation_images_filenames:\n",
    "    src_img = os.path.join(original_images_dir, image_name+'.png')\n",
    "    dst_img = os.path.join(validation_images_dir, image_name+'.png')\n",
    "    \n",
    "    src_mask = os.path.join(original_masks_dir, image_name+'_mask.png')\n",
    "    dst_mask = os.path.join(validation_masks_dir, image_name+'_mask.png')\n",
    "    \n",
    "    shutil.copyfile(src_img, dst_img) \n",
    "    shutil.copyfile(src_mask, dst_mask) \n",
    "    \n",
    "# Copy test images and masks\n",
    "for image_name in test_images_filenames:\n",
    "    src_img = os.path.join(original_images_dir, image_name+'.png')\n",
    "    dst_img = os.path.join(test_images_dir, image_name+'.png')\n",
    "    \n",
    "    src_mask = os.path.join(original_masks_dir, image_name+'_mask.png')\n",
    "    dst_mask = os.path.join(test_masks_dir, image_name+'_mask.png')\n",
    "    \n",
    "    shutil.copyfile(src_img, dst_img) \n",
    "    shutil.copyfile(src_mask, dst_mask) \n",
    "\n",
    "print('Done')"
   ]
  },
  {
   "cell_type": "code",
   "execution_count": 12,
   "metadata": {},
   "outputs": [
    {
     "name": "stdout",
     "output_type": "stream",
     "text": [
      "Total training images:   3164\n",
      "Total training masks:    3164\n",
      "Total validation images: 452\n",
      "Total validation masks:  452\n",
      "Total test images:       904\n",
      "Total test masks:        904\n"
     ]
    }
   ],
   "source": [
    "print('Total training images:   {}'.format(len(os.listdir(train_images_dir))))\n",
    "print('Total training masks:    {}'.format(len(os.listdir(train_masks_dir))))\n",
    "print('Total validation images: {}'.format(len(os.listdir(validation_images_dir))))\n",
    "print('Total validation masks:  {}'.format(len(os.listdir(validation_masks_dir))))\n",
    "print('Total test images:       {}'.format(len(os.listdir(test_images_dir))))\n",
    "print('Total test masks:        {}'.format(len(os.listdir(test_masks_dir))))"
   ]
  }
 ],
 "metadata": {
  "kernelspec": {
   "display_name": "Python 3",
   "language": "python",
   "name": "python3"
  },
  "language_info": {
   "codemirror_mode": {
    "name": "ipython",
    "version": 3
   },
   "file_extension": ".py",
   "mimetype": "text/x-python",
   "name": "python",
   "nbconvert_exporter": "python",
   "pygments_lexer": "ipython3",
   "version": "3.7.7"
  }
 },
 "nbformat": 4,
 "nbformat_minor": 4
}
