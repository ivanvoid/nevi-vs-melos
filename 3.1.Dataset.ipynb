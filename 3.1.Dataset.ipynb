{
 "cells": [
  {
   "cell_type": "markdown",
   "metadata": {},
   "source": [
    "# Torch Datasets\n",
    "Create a class for custum datasets"
   ]
  },
  {
   "cell_type": "code",
   "execution_count": null,
   "metadata": {},
   "outputs": [],
   "source": [
    "import os\n",
    "import torch\n",
    "from PIL import Image\n",
    "from torch.utils.data import Dataset\n",
    "\n",
    "class ISICDataset_seg(Dataset):\n",
    "    '''ISIC images/masks dataset'''\n",
    "    def __init__(self, folder, transform=None):\n",
    "        '''\n",
    "        Args:\n",
    "            folder (string): Directory with images and masks folders\n",
    "            transform (callable, optional): Optional transform to be applied on a sample.\n",
    "        '''\n",
    "        images_folder = folder + '/images'\n",
    "        masks_folder = folder + '/masks'\n",
    "        \n",
    "        images_filenames = sorted(os.listdir(images_folder))\n",
    "        masks_filenames = sorted(os.listdir(masks_folder))\n",
    "        \n",
    "        self.images_paths = [os.path.join(images_folder, name) for name in images_filenames]\n",
    "        self.masks_paths = [os.path.join(masks_folder, name) for name in masks_filenames]\n",
    "        \n",
    "        self.transform = transform\n",
    "    \n",
    "    def __len__(self):\n",
    "        return len(self.images_paths)\n",
    "    \n",
    "    def __getitem__(self, index):\n",
    "        if torch.is_tensor(index):\n",
    "            index = index.tolist()\n",
    "\n",
    "        image = Image.open(self.images_paths[index])\n",
    "        mask = Image.open(self.masks_paths[index])\n",
    "        \n",
    "        sample = {'image': image, 'mask': mask}\n",
    "\n",
    "        if self.transform:\n",
    "            for t in self.transform:\n",
    "                sample = t(sample)\n",
    "        \n",
    "        return sample"
   ]
  }
 ],
 "metadata": {
  "kernelspec": {
   "display_name": "Python 3",
   "language": "python",
   "name": "python3"
  },
  "language_info": {
   "codemirror_mode": {
    "name": "ipython",
    "version": 3
   },
   "file_extension": ".py",
   "mimetype": "text/x-python",
   "name": "python",
   "nbconvert_exporter": "python",
   "pygments_lexer": "ipython3",
   "version": "3.7.7"
  }
 },
 "nbformat": 4,
 "nbformat_minor": 4
}
