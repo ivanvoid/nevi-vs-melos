{
 "cells": [
  {
   "cell_type": "markdown",
   "metadata": {},
   "source": [
    "# Segmentation \n",
    "First of all try UNet"
   ]
  },
  {
   "cell_type": "code",
   "execution_count": 1,
   "metadata": {},
   "outputs": [],
   "source": [
    "# check if this notebook called from main one\n",
    "try: IS_MAIN\n",
    "except: IS_MAIN = False"
   ]
  },
  {
   "cell_type": "code",
   "execution_count": 2,
   "metadata": {},
   "outputs": [
    {
     "name": "stdout",
     "output_type": "stream",
     "text": [
      "Segmentation mode: STANDALONE\n"
     ]
    }
   ],
   "source": [
    "# setup necessary parameters\n",
    "if IS_MAIN:\n",
    "    print('Segmentation mode: MAIN')    \n",
    "    lr = 1e-4\n",
    "    n_epochs = 5\n",
    "else:\n",
    "    print('Segmentation mode: STANDALONE')\n",
    "    lr = 1e-3\n",
    "    n_epochs = 5\n"
   ]
  },
  {
   "cell_type": "code",
   "execution_count": 3,
   "metadata": {},
   "outputs": [
    {
     "name": "stdout",
     "output_type": "stream",
     "text": [
      "Creating Dataset and Dataloader.\n",
      "DataLoader mode: STANDALONE\n"
     ]
    }
   ],
   "source": [
    "# Get Dataloaders:\n",
    "# test_loader, train_loader, validation_loader\n",
    "print('Creating Dataset and Dataloader.')\n",
    "%run '3.2.DataLoader.ipynb'"
   ]
  },
  {
   "cell_type": "code",
   "execution_count": 4,
   "metadata": {},
   "outputs": [
    {
     "name": "stdout",
     "output_type": "stream",
     "text": [
      "Loading model.\n"
     ]
    },
    {
     "name": "stderr",
     "output_type": "stream",
     "text": [
      "Using cache found in /home/ivan/.cache/torch/hub/mateuszbuda_brain-segmentation-pytorch_master\n"
     ]
    }
   ],
   "source": [
    "import torch\n",
    "def get_segmentation_model():\n",
    "    model = torch.hub.load('mateuszbuda/brain-segmentation-pytorch', 'unet',\n",
    "                           in_channels=3, out_channels=1, init_features=32, pretrained=True)\n",
    "    return model\n",
    "print('Loading model.')\n",
    "model = get_segmentation_model()"
   ]
  },
  {
   "cell_type": "code",
   "execution_count": 5,
   "metadata": {},
   "outputs": [],
   "source": [
    "import numpy as np\n",
    "\n",
    "def make_train_step(model, loss_fn, optimizer):\n",
    "    def train_step(x,y):\n",
    "        # set model to train mode\n",
    "        model.train()\n",
    "        # make predictions\n",
    "        yhat = model(x)\n",
    "        #compute loss\n",
    "        y = y.to(device, dtype=torch.float32)\n",
    "        loss = loss_fn(yhat, y)\n",
    "        # update parameters\n",
    "        optimizer.zero_grad()\n",
    "        loss.backward()\n",
    "        optimizer.step()\n",
    "        return loss.item()\n",
    "    return train_step\n",
    "\n",
    "def make_val_step(model, loss_fn):\n",
    "    def val_step(x,y):\n",
    "        # set model to evaluation mode\n",
    "        model.eval()\n",
    "        # make prediction\n",
    "        yhat = model(x)\n",
    "        # compute loss\n",
    "        val_loss = loss_fn(yhat, y)\n",
    "        return val_loss.item()\n",
    "    return val_step\n",
    "\n",
    "def train(model, train_loader, n_epochs, optimizer, loss_fn, device, val_loader=None):\n",
    "    model.to(device)\n",
    "    \n",
    "    train_step = make_train_step(model, loss_fn, optimizer)\n",
    "    val_step = make_val_step(model, loss_fn)\n",
    "    \n",
    "    history = {'loss': [], 'val_loss': []}\n",
    "\n",
    "    train_len = len(train_loader)\n",
    "    val_len = len(validation_loader)\n",
    "    \n",
    "    for epoch in range(n_epochs):\n",
    "        for i, sample in enumerate(train_loader):\n",
    "            image, mask = sample['image'].to(device), sample['mask'].to(device)\n",
    "            \n",
    "            loss = train_step(image, mask)\n",
    "            \n",
    "            history['loss'] += [loss]\n",
    "            \n",
    "        if val_loader:\n",
    "            with torch.no_grad():\n",
    "                for i, sample in enumerate(val_loader):\n",
    "                    image, mask = sample['image'].to(device), sample['mask'].to(device)\n",
    "                    \n",
    "                    val_loss = val_step(image, mask)\n",
    "                    \n",
    "                    history['val_loss'] += [val_loss]\n",
    "                    \n",
    "        epoch_loss = np.mean(history['loss'][epoch*train_len:(epoch+1)*train_len])\n",
    "        epoch_val_loss = np.mean(history['val_loss'][epoch*val_len:(epoch+1)*val_len])\n",
    "        \n",
    "        print('Epoch[{:2}/{:2}] loss: {:3.4f}, val_loss: {:3.4f}'\n",
    "              .format(epoch+1, n_epochs, epoch_loss, epoch_val_loss))\n",
    "                \n",
    "    return history"
   ]
  },
  {
   "cell_type": "code",
   "execution_count": 6,
   "metadata": {},
   "outputs": [
    {
     "name": "stdout",
     "output_type": "stream",
     "text": [
      "Epoch[ 1/ 5] loss: 0.4124, val_loss: 0.4574\n",
      "Epoch[ 2/ 5] loss: 0.2665, val_loss: 0.4093\n",
      "Epoch[ 3/ 5] loss: 0.2272, val_loss: 0.4193\n",
      "Epoch[ 4/ 5] loss: 0.2033, val_loss: 0.3717\n",
      "Epoch[ 5/ 5] loss: 0.1864, val_loss: 0.4116\n",
      "Training done.\n"
     ]
    }
   ],
   "source": [
    "# Setup device\n",
    "device = 'cuda' if torch.cuda.is_available() else 'cpu'\n",
    "\n",
    "# Optimizer and loss function\n",
    "optimizer = torch.optim.Adam(model.parameters(), lr=lr)\n",
    "loss_fn = torch.nn.BCELoss()\n",
    "\n",
    "# Train the model\n",
    "history = train(model, train_loader, n_epochs, optimizer, loss_fn, device, validation_loader)\n",
    "print('Training done.')"
   ]
  },
  {
   "cell_type": "code",
   "execution_count": 71,
   "metadata": {},
   "outputs": [
    {
     "name": "stdout",
     "output_type": "stream",
     "text": [
      "Saving model.\n"
     ]
    }
   ],
   "source": [
    "print('Saving model.') \n",
    "torch.save(model.state_dict(), './exp/models/unet_{}_{}.pth'.format(len(train_loader), n_epochs))"
   ]
  },
  {
   "cell_type": "code",
   "execution_count": 7,
   "metadata": {},
   "outputs": [
    {
     "name": "stdout",
     "output_type": "stream",
     "text": [
      "Generating masks for train data.\n",
      "done.\n"
     ]
    }
   ],
   "source": [
    "print('Generating masks for train data.')\n",
    "\n",
    "from torchvision.transforms import ToPILImage\n",
    "untransform = ToPILImage()\n",
    "\n",
    "file_index = 0\n",
    "\n",
    "with torch.no_grad():\n",
    "    model.eval()\n",
    "    for i, sample in enumerate(train_loader):\n",
    "        image, mask = sample['image'].to(device), sample['mask'].to(device)\n",
    "        pred_mask = model(image)\n",
    "        pred_mask = pred_mask.cpu()\n",
    "        \n",
    "        batch_size = sample['image'].shape[0]\n",
    "\n",
    "        for b in range(batch_size):\n",
    "            msk = pred_mask[b]\n",
    "            msk = untransform(msk)\n",
    "            filename = train_loader.dataset.images_paths[file_index].split('/')[-1]\n",
    "            msk.save('./exp/predicted_masks/'+filename)\n",
    "            file_index += 1\n",
    "        \n",
    "print('done.')"
   ]
  },
  {
   "cell_type": "code",
   "execution_count": 8,
   "metadata": {},
   "outputs": [
    {
     "data": {
      "image/png": "[encoded data removed]",
      "text/plain": [
       "<Figure size 432x288 with 1 Axes>"
      ]
     },
     "metadata": {
      "needs_background": "light"
     },
     "output_type": "display_data"
    }
   ],
   "source": [
    "if not IS_MAIN:\n",
    "    val_len = len(validation_loader)\n",
    "    train_len = len(train_loader)\n",
    "    mean_loss = [np.mean(history['loss'][i*train_len:(i+1)*train_len]) for i in range(n_epochs)]\n",
    "    mean_val_loss = [np.mean(history['val_loss'][i*val_len:(i+1)*val_len]) for i in range(n_epochs)] \n",
    "    import matplotlib.pyplot as plt\n",
    "    plt.plot(mean_loss, label='loss')\n",
    "    plt.plot(mean_val_loss, label='val_loss')\n",
    "    plt.legend()\n",
    "    plt.show()"
   ]
  }
 ],
 "metadata": {
  "kernelspec": {
   "display_name": "Python 3",
   "language": "python",
   "name": "python3"
  },
  "language_info": {
   "codemirror_mode": {
    "name": "ipython",
    "version": 3
   },
   "file_extension": ".py",
   "mimetype": "text/x-python",
   "name": "python",
   "nbconvert_exporter": "python",
   "pygments_lexer": "ipython3",
   "version": "3.7.7"
  }
 },
 "nbformat": 4,
 "nbformat_minor": 4
}
