{
 "cells": [
  {
   "cell_type": "markdown",
   "metadata": {},
   "source": [
    "# Segmentation \n",
    "First of all try UNet"
   ]
  },
  {
   "cell_type": "code",
   "execution_count": 58,
   "metadata": {},
   "outputs": [],
   "source": [
    "# check if this notebook called from main one\n",
    "try: IS_MAIN\n",
    "except: IS_MAIN = False"
   ]
  },
  {
   "cell_type": "code",
   "execution_count": 59,
   "metadata": {},
   "outputs": [
    {
     "name": "stdout",
     "output_type": "stream",
     "text": [
      "Segmentation mode: STANDALONE\n"
     ]
    }
   ],
   "source": [
    "# setup necessary parameters\n",
    "if IS_MAIN:\n",
    "    print('Segmentation mode: MAIN')    \n",
    "    lr = 1e-4\n",
    "    n_epochs = 5\n",
    "else:\n",
    "    print('Segmentation mode: STANDALONE')\n",
    "    lr = 1e-5\n",
    "    n_epochs = 20\n",
    "    \n",
    "test_folder = 'data/transforms/segmentation/test'\n",
    "train_folder = 'data/transforms/segmentation/train'\n",
    "validation_folder = 'data/transforms/segmentation/validation'   "
   ]
  },
  {
   "cell_type": "code",
   "execution_count": 60,
   "metadata": {},
   "outputs": [
    {
     "name": "stdout",
     "output_type": "stream",
     "text": [
      "Creating Dataset and Dataloader.\n",
      "DataLoader mode: STANDALONE\n"
     ]
    }
   ],
   "source": [
    "# Get Dataloaders:\n",
    "# test_loader, train_loader, validation_loader\n",
    "print('Creating Dataset and Dataloader.')\n",
    "%run '3.2.DataLoader.ipynb'"
   ]
  },
  {
   "cell_type": "code",
   "execution_count": 61,
   "metadata": {},
   "outputs": [
    {
     "name": "stdout",
     "output_type": "stream",
     "text": [
      "Loading model.\n"
     ]
    },
    {
     "name": "stderr",
     "output_type": "stream",
     "text": [
      "Using cache found in /home/ivan/.cache/torch/hub/mateuszbuda_brain-segmentation-pytorch_master\n"
     ]
    }
   ],
   "source": [
    "import torch\n",
    "def get_segmentation_model():\n",
    "    model = torch.hub.load('mateuszbuda/brain-segmentation-pytorch', 'unet',\n",
    "                           in_channels=3, out_channels=1, init_features=64, pretrained=False)\n",
    "    return model\n",
    "print('Loading model.')\n",
    "model = get_segmentation_model()"
   ]
  },
  {
   "cell_type": "code",
   "execution_count": 62,
   "metadata": {},
   "outputs": [],
   "source": [
    "import numpy as np\n",
    "\n",
    "def make_train_step(model, loss_fn, optimizer):\n",
    "    def train_step(x,y):\n",
    "        # set model to train mode\n",
    "        model.train()\n",
    "        # make predictions\n",
    "        yhat = model(x)\n",
    "        #compute loss\n",
    "        y = y.to(device, dtype=torch.float32)\n",
    "        loss = loss_fn(yhat, y)\n",
    "        # update parameters\n",
    "        optimizer.zero_grad()\n",
    "        loss.backward()\n",
    "        optimizer.step()\n",
    "        return loss.item()\n",
    "    return train_step\n",
    "\n",
    "def make_val_step(model, loss_fn):\n",
    "    def val_step(x,y):\n",
    "        # set model to evaluation mode\n",
    "        model.eval()\n",
    "        # make prediction\n",
    "        yhat = model(x)\n",
    "        # compute loss\n",
    "        val_loss = loss_fn(yhat, y)\n",
    "        return val_loss.item()\n",
    "    return val_step\n",
    "\n",
    "def train(model, train_loader, n_epochs, optimizer, loss_fn, device, val_loader=None):\n",
    "    model.to(device)\n",
    "    \n",
    "    train_step = make_train_step(model, loss_fn, optimizer)\n",
    "    val_step = make_val_step(model, loss_fn)\n",
    "    \n",
    "    history = {'loss': [], 'val_loss': []}\n",
    "\n",
    "    train_len = len(train_loader)\n",
    "    val_len = len(validation_loader)\n",
    "    \n",
    "    for epoch in range(n_epochs):\n",
    "        for i, sample in enumerate(train_loader):\n",
    "            image, mask = sample['image'].to(device), sample['mask'].to(device)\n",
    "            \n",
    "            loss = train_step(image, mask)\n",
    "            \n",
    "            history['loss'] += [loss]\n",
    "            \n",
    "        if val_loader:\n",
    "            with torch.no_grad():\n",
    "                for i, sample in enumerate(val_loader):\n",
    "                    image, mask = sample['image'].to(device), sample['mask'].to(device)\n",
    "                    \n",
    "                    val_loss = val_step(image, mask)\n",
    "                    \n",
    "                    history['val_loss'] += [val_loss]\n",
    "                    \n",
    "        epoch_loss = np.mean(history['loss'][epoch*train_len:(epoch+1)*train_len])\n",
    "        epoch_val_loss = np.mean(history['val_loss'][epoch*val_len:(epoch+1)*val_len])\n",
    "        \n",
    "        print('Epoch[{:2}/{:2}] loss: {:3.4f}, val_loss: {:3.4f}'\n",
    "              .format(epoch+1, n_epochs, epoch_loss, epoch_val_loss))\n",
    "                \n",
    "    return history"
   ]
  },
  {
   "cell_type": "code",
   "execution_count": 63,
   "metadata": {},
   "outputs": [
    {
     "name": "stdout",
     "output_type": "stream",
     "text": [
      "Epoch[ 1/20] loss: 0.6661, val_loss: 0.7148\n",
      "Epoch[ 2/20] loss: 0.6198, val_loss: 0.6717\n",
      "Epoch[ 3/20] loss: 0.5840, val_loss: 0.5880\n",
      "Epoch[ 4/20] loss: 0.5508, val_loss: 0.5569\n",
      "Epoch[ 5/20] loss: 0.5147, val_loss: 0.5325\n",
      "Epoch[ 6/20] loss: 0.4773, val_loss: 0.4959\n",
      "Epoch[ 7/20] loss: 0.4408, val_loss: 0.4591\n",
      "Epoch[ 8/20] loss: 0.4079, val_loss: 0.4316\n",
      "Epoch[ 9/20] loss: 0.3799, val_loss: 0.4270\n",
      "Epoch[10/20] loss: 0.3630, val_loss: 0.4095\n",
      "Epoch[11/20] loss: 0.3526, val_loss: 0.3968\n",
      "Epoch[12/20] loss: 0.3420, val_loss: 0.3645\n",
      "Epoch[13/20] loss: 0.3259, val_loss: 0.3592\n",
      "Epoch[14/20] loss: 0.3164, val_loss: 0.3566\n",
      "Epoch[15/20] loss: 0.3073, val_loss: 0.3529\n",
      "Epoch[16/20] loss: 0.3019, val_loss: 0.3481\n",
      "Epoch[17/20] loss: 0.2980, val_loss: 0.3518\n",
      "Epoch[18/20] loss: 0.2963, val_loss: 0.3438\n",
      "Epoch[19/20] loss: 0.2928, val_loss: 0.3458\n",
      "Epoch[20/20] loss: 0.2903, val_loss: 0.3457\n",
      "Training done.\n"
     ]
    }
   ],
   "source": [
    "# Setup device\n",
    "device = 'cuda' if torch.cuda.is_available() else 'cpu'\n",
    "\n",
    "# Optimizer and loss function\n",
    "optimizer = torch.optim.Adam(model.parameters(), lr=lr)\n",
    "loss_fn = torch.nn.BCELoss()\n",
    "\n",
    "# Train the model\n",
    "history = train(model, train_loader, n_epochs, optimizer, loss_fn, device, validation_loader)\n",
    "print('Training done.')"
   ]
  },
  {
   "cell_type": "code",
   "execution_count": 64,
   "metadata": {},
   "outputs": [
    {
     "name": "stdout",
     "output_type": "stream",
     "text": [
      "Saving model.\n"
     ]
    }
   ],
   "source": [
    "print('Saving model.') \n",
    "torch.save(model.state_dict(), './exp/models/unet_files-{}_epochs-{}_lr-{}.pth'\n",
    "           .format(len(train_loader.dataset), n_epochs, lr))"
   ]
  },
  {
   "cell_type": "code",
   "execution_count": 65,
   "metadata": {},
   "outputs": [
    {
     "name": "stdout",
     "output_type": "stream",
     "text": [
      "Generating masks for train data.\n",
      "0 1 2 3 4 5 6 7 8 9 10 11 12 13 14 15 \n",
      "500 done.\n"
     ]
    }
   ],
   "source": [
    "print('Generating masks for train data.')\n",
    "\n",
    "from torchvision.transforms import ToPILImage\n",
    "untransform = ToPILImage()\n",
    "\n",
    "file_index = 0\n",
    "\n",
    "with torch.no_grad():\n",
    "    model.eval()\n",
    "    for i, sample in enumerate(train_loader):\n",
    "        print(i, end=' ')\n",
    "        image, mask = sample['image'].to(device), sample['mask'].to(device)\n",
    "        pred_mask = model(image)\n",
    "        pred_mask = pred_mask.cpu()\n",
    "        \n",
    "        batch_size = sample['image'].shape[0]\n",
    "\n",
    "        for b in range(batch_size):\n",
    "            msk = pred_mask[b]\n",
    "            msk = untransform(msk)\n",
    "            filename = train_loader.dataset.images_paths[file_index].split('/')[-1]\n",
    "            msk.save('./exp/predicted_masks/'+filename)\n",
    "            file_index += 1\n",
    "\n",
    "        \n",
    "print(f'\\n{file_index} done.')"
   ]
  },
  {
   "cell_type": "code",
   "execution_count": 66,
   "metadata": {},
   "outputs": [
    {
     "data": {
      "image/png": "[encoded data removed]",
      "text/plain": [
       "<Figure size 432x288 with 1 Axes>"
      ]
     },
     "metadata": {
      "needs_background": "light"
     },
     "output_type": "display_data"
    }
   ],
   "source": [
    "if not IS_MAIN:\n",
    "    val_len = len(validation_loader)\n",
    "    train_len = len(train_loader)\n",
    "    mean_loss = [np.mean(history['loss'][i*train_len:(i+1)*train_len]) for i in range(n_epochs)]\n",
    "    mean_val_loss = [np.mean(history['val_loss'][i*val_len:(i+1)*val_len]) for i in range(n_epochs)] \n",
    "    import matplotlib.pyplot as plt\n",
    "    plt.plot(mean_loss, label='loss')\n",
    "    plt.plot(mean_val_loss, label='val_loss')\n",
    "    plt.legend()\n",
    "#     plt.yscale('log')\n",
    "    plt.show()"
   ]
  }
 ],
 "metadata": {
  "kernelspec": {
   "display_name": "Python 3",
   "language": "python",
   "name": "python3"
  },
  "language_info": {
   "codemirror_mode": {
    "name": "ipython",
    "version": 3
   },
   "file_extension": ".py",
   "mimetype": "text/x-python",
   "name": "python",
   "nbconvert_exporter": "python",
   "pygments_lexer": "ipython3",
   "version": "3.7.7"
  }
 },
 "nbformat": 4,
 "nbformat_minor": 4
}
