{
 "cells": [
  {
   "cell_type": "markdown",
   "metadata": {},
   "source": [
    "# Segmentation \n",
    "First of all try UNet"
   ]
  },
  {
   "cell_type": "code",
   "execution_count": 1,
   "metadata": {},
   "outputs": [],
   "source": [
    "# check if this notebook called from main one\n",
    "try: IS_MAIN\n",
    "except: IS_MAIN = False"
   ]
  },
  {
   "cell_type": "code",
   "execution_count": 2,
   "metadata": {},
   "outputs": [
    {
     "name": "stdout",
     "output_type": "stream",
     "text": [
      "Segmentation mode: STANDALONE\n"
     ]
    }
   ],
   "source": [
    "# setup necessary parameters\n",
    "if IS_MAIN:\n",
    "    print('Segmentation mode: MAIN')    \n",
    "    lr = 1e-4\n",
    "    n_epochs = 5\n",
    "else:\n",
    "    print('Segmentation mode: STANDALONE')\n",
    "    lr = 1e-5\n",
    "    n_epochs = 50\n",
    "    \n",
    "test_folder = 'data/transforms/segmentation/test'\n",
    "train_folder = 'data/transforms/segmentation/train'\n",
    "validation_folder = 'data/transforms/segmentation/validation'   "
   ]
  },
  {
   "cell_type": "code",
   "execution_count": 3,
   "metadata": {},
   "outputs": [
    {
     "name": "stdout",
     "output_type": "stream",
     "text": [
      "Creating Dataset and Dataloader.\n",
      "DataLoader mode: STANDALONE\n"
     ]
    }
   ],
   "source": [
    "# Get Dataloaders:\n",
    "# test_loader, train_loader, validation_loader\n",
    "print('Creating Dataset and Dataloader.')\n",
    "%run '3.2.DataLoader.ipynb'"
   ]
  },
  {
   "cell_type": "code",
   "execution_count": 42,
   "metadata": {},
   "outputs": [
    {
     "name": "stdout",
     "output_type": "stream",
     "text": [
      "Loading model.\n"
     ]
    },
    {
     "name": "stderr",
     "output_type": "stream",
     "text": [
      "Using cache found in /home/ivan/.cache/torch/hub/mateuszbuda_brain-segmentation-pytorch_master\n"
     ]
    }
   ],
   "source": [
    "import torch\n",
    "def get_segmentation_model():\n",
    "    model = torch.hub.load('mateuszbuda/brain-segmentation-pytorch', 'unet',\n",
    "                           in_channels=3, out_channels=1, init_features=32, pretrained=True)\n",
    "    return model\n",
    "print('Loading model.')\n",
    "model = get_segmentation_model()"
   ]
  },
  {
   "cell_type": "code",
   "execution_count": 43,
   "metadata": {},
   "outputs": [],
   "source": [
    "import numpy as np\n",
    "\n",
    "def make_train_step(model, loss_fn, optimizer):\n",
    "    def train_step(x,y):\n",
    "        # set model to train mode\n",
    "        model.train()\n",
    "        # make predictions\n",
    "        yhat = model(x)\n",
    "        #compute loss\n",
    "        y = y.to(device, dtype=torch.float32)\n",
    "        loss = loss_fn(yhat, y)\n",
    "        # update parameters\n",
    "        optimizer.zero_grad()\n",
    "        loss.backward()\n",
    "        optimizer.step()\n",
    "        return loss.item()\n",
    "    return train_step\n",
    "\n",
    "def make_val_step(model, loss_fn):\n",
    "    def val_step(x,y):\n",
    "        # set model to evaluation mode\n",
    "        model.eval()\n",
    "        # make prediction\n",
    "        yhat = model(x)\n",
    "        # compute loss\n",
    "        val_loss = loss_fn(yhat, y)\n",
    "        return val_loss.item()\n",
    "    return val_step\n",
    "\n",
    "def train(model, train_loader, n_epochs, optimizer, loss_fn, device, val_loader=None):\n",
    "    model.to(device)\n",
    "    \n",
    "    train_step = make_train_step(model, loss_fn, optimizer)\n",
    "    val_step = make_val_step(model, loss_fn)\n",
    "    \n",
    "    history = {'loss': [], 'val_loss': []}\n",
    "\n",
    "    train_len = len(train_loader)\n",
    "    val_len = len(validation_loader)\n",
    "    \n",
    "    for epoch in range(n_epochs):\n",
    "        for i, sample in enumerate(train_loader):\n",
    "            image, mask = sample['image'].to(device), sample['mask'].to(device)\n",
    "            \n",
    "            loss = train_step(image, mask)\n",
    "            \n",
    "            history['loss'] += [loss]\n",
    "            \n",
    "        if val_loader:\n",
    "            with torch.no_grad():\n",
    "                for i, sample in enumerate(val_loader):\n",
    "                    image, mask = sample['image'].to(device), sample['mask'].to(device)\n",
    "                    \n",
    "                    val_loss = val_step(image, mask)\n",
    "                    \n",
    "                    history['val_loss'] += [val_loss]\n",
    "                    \n",
    "        epoch_loss = np.mean(history['loss'][epoch*train_len:(epoch+1)*train_len])\n",
    "        epoch_val_loss = np.mean(history['val_loss'][epoch*val_len:(epoch+1)*val_len])\n",
    "        \n",
    "        print('Epoch[{:2}/{:2}] loss: {:3.4f}, val_loss: {:3.4f}'\n",
    "              .format(epoch+1, n_epochs, epoch_loss, epoch_val_loss))\n",
    "                \n",
    "    return history"
   ]
  },
  {
   "cell_type": "code",
   "execution_count": 44,
   "metadata": {},
   "outputs": [
    {
     "name": "stdout",
     "output_type": "stream",
     "text": [
      "Epoch[ 1/50] loss: 5.2072, val_loss: 4.7654\n",
      "Epoch[ 2/50] loss: 4.0508, val_loss: 3.9457\n",
      "Epoch[ 3/50] loss: 3.6164, val_loss: 3.2414\n",
      "Epoch[ 4/50] loss: 3.3433, val_loss: 2.8535\n",
      "Epoch[ 5/50] loss: 3.1550, val_loss: 2.5839\n",
      "Epoch[ 6/50] loss: 2.9774, val_loss: 2.3878\n",
      "Epoch[ 7/50] loss: 2.7991, val_loss: 2.1867\n",
      "Epoch[ 8/50] loss: 2.6248, val_loss: 1.9934\n",
      "Epoch[ 9/50] loss: 2.4615, val_loss: 1.8121\n",
      "Epoch[10/50] loss: 2.3145, val_loss: 1.6445\n",
      "Epoch[11/50] loss: 2.1794, val_loss: 1.4930\n",
      "Epoch[12/50] loss: 2.0591, val_loss: 1.3697\n",
      "Epoch[13/50] loss: 1.9530, val_loss: 1.2745\n",
      "Epoch[14/50] loss: 1.8577, val_loss: 1.1996\n",
      "Epoch[15/50] loss: 1.7728, val_loss: 1.1419\n",
      "Epoch[16/50] loss: 1.6974, val_loss: 1.0935\n",
      "Epoch[17/50] loss: 1.6299, val_loss: 1.0545\n",
      "Epoch[18/50] loss: 1.5676, val_loss: 1.0225\n",
      "Epoch[19/50] loss: 1.5103, val_loss: 0.9973\n",
      "Epoch[20/50] loss: 1.4575, val_loss: 0.9736\n",
      "Epoch[21/50] loss: 1.4080, val_loss: 0.9537\n",
      "Epoch[22/50] loss: 1.3608, val_loss: 0.9385\n",
      "Epoch[23/50] loss: 1.3153, val_loss: 0.9264\n",
      "Epoch[24/50] loss: 1.2733, val_loss: 0.9165\n",
      "Epoch[25/50] loss: 1.2335, val_loss: 0.9062\n",
      "Epoch[26/50] loss: 1.1953, val_loss: 0.8958\n",
      "Epoch[27/50] loss: 1.1586, val_loss: 0.8913\n",
      "Epoch[28/50] loss: 1.1237, val_loss: 0.8891\n",
      "Epoch[29/50] loss: 1.0900, val_loss: 0.8863\n",
      "Epoch[30/50] loss: 1.0576, val_loss: 0.8827\n",
      "Epoch[31/50] loss: 1.0265, val_loss: 0.8785\n",
      "Epoch[32/50] loss: 0.9968, val_loss: 0.8747\n",
      "Epoch[33/50] loss: 0.9685, val_loss: 0.8724\n",
      "Epoch[34/50] loss: 0.9411, val_loss: 0.8706\n",
      "Epoch[35/50] loss: 0.9148, val_loss: 0.8680\n",
      "Epoch[36/50] loss: 0.8893, val_loss: 0.8689\n",
      "Epoch[37/50] loss: 0.8649, val_loss: 0.8698\n",
      "Epoch[38/50] loss: 0.8416, val_loss: 0.8704\n",
      "Epoch[39/50] loss: 0.8194, val_loss: 0.8735\n",
      "Epoch[40/50] loss: 0.7980, val_loss: 0.8760\n",
      "Epoch[41/50] loss: 0.7773, val_loss: 0.8774\n",
      "Epoch[42/50] loss: 0.7573, val_loss: 0.8804\n",
      "Epoch[43/50] loss: 0.7381, val_loss: 0.8828\n",
      "Epoch[44/50] loss: 0.7196, val_loss: 0.8851\n",
      "Epoch[45/50] loss: 0.7016, val_loss: 0.8887\n",
      "Epoch[46/50] loss: 0.6838, val_loss: 0.8917\n",
      "Epoch[47/50] loss: 0.6665, val_loss: 0.8963\n",
      "Epoch[48/50] loss: 0.6496, val_loss: 0.8998\n",
      "Epoch[49/50] loss: 0.6333, val_loss: 0.9009\n",
      "Epoch[50/50] loss: 0.6175, val_loss: 0.8999\n",
      "Training done.\n"
     ]
    }
   ],
   "source": [
    "# Setup device\n",
    "device = 'cuda' if torch.cuda.is_available() else 'cpu'\n",
    "\n",
    "# Optimizer and loss function\n",
    "optimizer = torch.optim.Adam(model.parameters(), lr=lr)\n",
    "loss_fn = torch.nn.BCELoss()\n",
    "\n",
    "# Train the model\n",
    "history = train(model, train_loader, n_epochs, optimizer, loss_fn, device, validation_loader)\n",
    "print('Training done.')"
   ]
  },
  {
   "cell_type": "code",
   "execution_count": 45,
   "metadata": {},
   "outputs": [
    {
     "name": "stdout",
     "output_type": "stream",
     "text": [
      "Saving model.\n"
     ]
    }
   ],
   "source": [
    "print('Saving model.') \n",
    "torch.save(model.state_dict(), './exp/models/unet_{}_{}.pth'.format(len(train_loader), n_epochs))"
   ]
  },
  {
   "cell_type": "code",
   "execution_count": 49,
   "metadata": {},
   "outputs": [
    {
     "name": "stdout",
     "output_type": "stream",
     "text": [
      "Generating masks for train data.\n",
      "done.\n"
     ]
    }
   ],
   "source": [
    "print('Generating masks for train data.')\n",
    "\n",
    "from torchvision.transforms import ToPILImage\n",
    "untransform = ToPILImage()\n",
    "\n",
    "file_index = 0\n",
    "\n",
    "with torch.no_grad():\n",
    "    model.eval()\n",
    "    for i, sample in enumerate(train_loader):\n",
    "        image, mask = sample['image'].to(device), sample['mask'].to(device)\n",
    "        pred_mask = model(image)\n",
    "        pred_mask = pred_mask.cpu()\n",
    "        \n",
    "        batch_size = sample['image'].shape[0]\n",
    "\n",
    "        for b in range(batch_size):\n",
    "            msk = pred_mask[b]\n",
    "            msk = untransform(msk)\n",
    "            filename = train_loader.dataset.images_paths[file_index].split('/')[-1]\n",
    "            msk.save('./exp/predicted_masks/'+filename)\n",
    "            file_index += 1\n",
    "        \n",
    "print('done.')"
   ]
  },
  {
   "cell_type": "code",
   "execution_count": 47,
   "metadata": {},
   "outputs": [
    {
     "data": {
      "image/png": "[encoded data removed]",
      "text/plain": [
       "<Figure size 432x288 with 1 Axes>"
      ]
     },
     "metadata": {
      "needs_background": "light"
     },
     "output_type": "display_data"
    }
   ],
   "source": [
    "if not IS_MAIN:\n",
    "    val_len = len(validation_loader)\n",
    "    train_len = len(train_loader)\n",
    "    mean_loss = [np.mean(history['loss'][i*train_len:(i+1)*train_len]) for i in range(n_epochs)]\n",
    "    mean_val_loss = [np.mean(history['val_loss'][i*val_len:(i+1)*val_len]) for i in range(n_epochs)] \n",
    "    import matplotlib.pyplot as plt\n",
    "    plt.plot(mean_loss, label='loss')\n",
    "    plt.plot(mean_val_loss, label='val_loss')\n",
    "    plt.legend()\n",
    "    plt.show()"
   ]
  }
 ],
 "metadata": {
  "kernelspec": {
   "display_name": "Python 3",
   "language": "python",
   "name": "python3"
  },
  "language_info": {
   "codemirror_mode": {
    "name": "ipython",
    "version": 3
   },
   "file_extension": ".py",
   "mimetype": "text/x-python",
   "name": "python",
   "nbconvert_exporter": "python",
   "pygments_lexer": "ipython3",
   "version": "3.7.7"
  }
 },
 "nbformat": 4,
 "nbformat_minor": 4
}
