{
 "cells": [
  {
   "cell_type": "markdown",
   "metadata": {},
   "source": [
    "# Data splitter\n",
    "Split data to train/validation/test folders"
   ]
  },
  {
   "cell_type": "code",
   "execution_count": 36,
   "metadata": {},
   "outputs": [],
   "source": [
    "import os, shutil\n",
    "import pandas as pd"
   ]
  },
  {
   "cell_type": "code",
   "execution_count": 37,
   "metadata": {},
   "outputs": [],
   "source": [
    "# check if this notebook called from main one\n",
    "try: IS_MAIN\n",
    "except: IS_MAIN = False"
   ]
  },
  {
   "cell_type": "code",
   "execution_count": 38,
   "metadata": {},
   "outputs": [
    {
     "name": "stdout",
     "output_type": "stream",
     "text": [
      "DataSplitter mode: STANDALONE \n"
     ]
    }
   ],
   "source": [
    "# setup necessary parameters\n",
    "transform_images = True\n",
    "\n",
    "if IS_MAIN:\n",
    "    print('DataSplitter mode: MAIN')\n",
    "    split = {'train':0.7, 'validation':0.1, 'test':0.2} # must sumup to 1\n",
    "    \n",
    "else:  \n",
    "    print(f'DataSplitter mode: STANDALONE ')\n",
    "    split = {'train':0.6, 'validation':0.3, 'test':0.2} # must sumup to 1\n",
    "\n"
   ]
  },
  {
   "cell_type": "markdown",
   "metadata": {},
   "source": [
    "### Define folder names and create them if nessesery"
   ]
  },
  {
   "cell_type": "code",
   "execution_count": 40,
   "metadata": {},
   "outputs": [],
   "source": [
    "from os.path import join\n",
    "\n",
    "# Input folder\n",
    "original_dataset_dir = 'data/ISIC'\n",
    "original_images_dir = os.path.join(original_dataset_dir, 'images')\n",
    "original_masks_dir = os.path.join(original_dataset_dir, 'masks')\n",
    "\n",
    "# Output folders \n",
    "base_dir = 'data/raw'\n",
    "seg_dir = join(base_dir, 'segmentation')\n",
    "clf_dir = join(base_dir, 'classification')\n",
    "\n",
    "# Segmentation\n",
    "seg_validation_dir = join(seg_dir, 'validation')\n",
    "seg_train_dir = join(seg_dir, 'train')\n",
    "seg_test_dir = join(seg_dir, 'test')\n",
    "\n",
    "seg_validation_img_dir = join(seg_validation_dir, 'images')\n",
    "seg_validation_msk_dir = join(seg_validation_dir, 'masks')\n",
    "seg_train_img_dir = join(seg_train_dir, 'images')\n",
    "seg_train_msk_dir = join(seg_train_dir, 'masks')\n",
    "seg_test_img_dir = join(seg_test_dir, 'images')\n",
    "seg_test_msk_dir = join(seg_test_dir, 'masks')\n",
    "\n",
    "# Classification\n",
    "clf_validation_dir = join(clf_dir, 'validation')\n",
    "clf_train_dir = join(clf_dir, 'train')\n",
    "clf_test_dir = join(clf_dir, 'test')\n",
    "\n",
    "clf_validation_nev_dir = join(clf_validation_dir, 'nevus')\n",
    "clf_validation_mel_dir = join(clf_validation_dir, 'melanoma')\n",
    "clf_train_nev_dir = join(clf_train_dir, 'nevus')\n",
    "clf_train_mel_dir = join(clf_train_dir, 'melanoma')\n",
    "clf_test_nev_dir = join(clf_test_dir, 'nevus')\n",
    "clf_test_mel_dir = join(clf_test_dir, 'melanoma')\n",
    "\n",
    "\n",
    "# Info filenames\n",
    "images_info_fn = 'images_info.csv'\n",
    "masks_info_fn = 'masks_info.csv'"
   ]
  },
  {
   "cell_type": "code",
   "execution_count": 41,
   "metadata": {},
   "outputs": [
    {
     "name": "stdout",
     "output_type": "stream",
     "text": [
      "Deleting old data/raw\n",
      "Folders do not exist\n",
      "Creating new empty data/raw tree\n"
     ]
    }
   ],
   "source": [
    "# Remove existing files \n",
    "print(f'Deleting old {base_dir}')\n",
    "try:\n",
    "    shutil.rmtree(base_dir)\n",
    "except:\n",
    "    print('Folders do not exist')\n",
    "    \n",
    "# Create folders\n",
    "print(f'Creating new empty {base_dir} tree')\n",
    "def mkdir(dir_path): \n",
    "    if not os.path.exists(dir_path): os.makedirs(dir_path)\n",
    "\n",
    "mkdir(seg_validation_img_dir)\n",
    "mkdir(seg_validation_msk_dir)\n",
    "mkdir(seg_train_img_dir)\n",
    "mkdir(seg_train_msk_dir)\n",
    "mkdir(seg_test_img_dir)\n",
    "mkdir(seg_test_msk_dir)\n",
    "        \n",
    "mkdir(clf_validation_nev_dir)\n",
    "mkdir(clf_validation_mel_dir)\n",
    "mkdir(clf_train_nev_dir)\n",
    "mkdir(clf_train_mel_dir)\n",
    "mkdir(clf_test_nev_dir)\n",
    "mkdir(clf_test_mel_dir)"
   ]
  },
  {
   "cell_type": "code",
   "execution_count": 43,
   "metadata": {},
   "outputs": [
    {
     "name": "stdout",
     "output_type": "stream",
     "text": [
      "Total images:     500\n",
      "Train split:      300\n",
      "Validation split: 150\n",
      "Test split:       50\n",
      "-----------------------\n",
      "Split sum:        500\n"
     ]
    }
   ],
   "source": [
    "#Get names of images and masks \n",
    "masksinfo_fn = os.path.join(original_dataset_dir, masks_info_fn)\n",
    "imagesinfo_fn = os.path.join(original_dataset_dir, images_info_fn)\n",
    "\n",
    "masks_info = pd.read_csv(masksinfo_fn)\n",
    "images_info = pd.read_csv(imagesinfo_fn)\n",
    "\n",
    "images_names = list(masks_info['name'])\n",
    "if not IS_MAIN:\n",
    "    # smaller number for testing\n",
    "    images_names = images_names[:500]\n",
    "\n",
    "# Get splited filenames\n",
    "train_split = int(len(images_names) * split['train'])\n",
    "validation_split = int(len(images_names) * split['validation'])\n",
    "test_split = int(len(images_names) * split['test'])\n",
    "\n",
    "train_images_filenames = images_names[:train_split]\n",
    "validation_images_filenames = images_names[train_split:train_split+validation_split]\n",
    "test_images_filenames = images_names[train_split+validation_split:]\n",
    "\n",
    "print('Total images:     {}'.format(len(images_names)))\n",
    "print('Train split:      {}'.format(len(train_images_filenames)))\n",
    "print('Validation split: {}'.format(len(validation_images_filenames)))\n",
    "print('Test split:       {}'.format(len(test_images_filenames)))\n",
    "print('-'*23)\n",
    "print('Split sum:        {}'.format(len(train_images_filenames)+len(validation_images_filenames)+len(test_images_filenames)))\n"
   ]
  },
  {
   "cell_type": "code",
   "execution_count": 55,
   "metadata": {},
   "outputs": [
    {
     "name": "stdout",
     "output_type": "stream",
     "text": [
      "Copy images and masks for segmentation and classifiaction...\n",
      "Copy train images and masks...\n",
      "Copy validation images and masks...\n",
      "Copy test images and masks...\n"
     ]
    }
   ],
   "source": [
    "print('Copy images and masks for segmentation and classifiaction...')\n",
    "def copy_files(filenames, origin_img_dir, origin_msk_dir, \n",
    "               clf_nev_dir, clf_mel_dir, seg_img_dir, seg_msk_dir, images_info=images_info):\n",
    "    for image_name in filenames:\n",
    "        # get diagnosis for this image\n",
    "        condition = images_info['isic_name'] == 'nevus'\n",
    "        diagnosis = images_info[condition]['diagnosis'].item()\n",
    "\n",
    "        if diagnosis == 'nevus':\n",
    "            dst_clf_img = join(clf_nev_dir, image_name+'.png') \n",
    "        else:\n",
    "            dst_clf_img = join(clf_mel_dir, image_name+'.png')\n",
    "\n",
    "        src_img = join(origin_img_dir,  image_name+'.png')\n",
    "        dst_seg_img = join(seg_img_dir, image_name+'.png')\n",
    "\n",
    "        src_mask = join(origin_msk_dir,  image_name+'_mask.png')\n",
    "        dst_seg_mask = join(seg_msk_dir, image_name+'_mask.png')\n",
    "\n",
    "        shutil.copyfile(src_img, dst_clf_img) \n",
    "        shutil.copyfile(src_img, dst_seg_img) \n",
    "        shutil.copyfile(src_mask, dst_seg_mask) \n",
    "\n",
    "    \n",
    "print('Copy train images and masks...')\n",
    "copy_files(train_images_filenames, \n",
    "           original_images_dir, original_masks_dir, \n",
    "           clf_train_nev_dir, clf_train_mel_dir, \n",
    "           seg_train_img_dir, seg_train_msk_dir)\n",
    "\n",
    "print('Copy validation images and masks...')\n",
    "copy_files(validation_images_filenames, \n",
    "           original_images_dir, original_masks_dir, \n",
    "           clf_validation_nev_dir, clf_validation_mel_dir, \n",
    "           seg_validation_img_dir, seg_validation_msk_dir)\n",
    "\n",
    "print('Copy test images and masks...')\n",
    "copy_files(test_images_filenames, \n",
    "           original_images_dir, original_masks_dir, \n",
    "           clf_test_nev_dir, clf_test_mel_dir, \n",
    "           seg_test_img_dir, seg_test_msk_dir)"
   ]
  },
  {
   "cell_type": "code",
   "execution_count": 62,
   "metadata": {},
   "outputs": [
    {
     "name": "stdout",
     "output_type": "stream",
     "text": [
      "Segmentation train images:      300 in `data/raw/segmentation/train/images`\n",
      "Segmentation train masks:       300 in `data/raw/segmentation/train/masks`\n",
      "Segmentation validation images: 150 in `data/raw/segmentation/validation/images`\n",
      "Segmentation validation masks:  150 in `data/raw/segmentation/validation/masks`\n",
      "Segmentation test images:        50 in `data/raw/segmentation/test/images`\n",
      "Segmentation test masks:         50 in `data/raw/segmentation/test/masks`\n",
      "--------------------------------------------------------------------------------\n",
      "Classification train nevus:         216 in `data/raw/classification/train/nevus`\n",
      "Classification train melanoma:       84 in `data/raw/classification/train/melanoma`\n",
      "Classification validation nevus:    105 in `data/raw/classification/validation/nevus`\n",
      "Classification validation melanoma:  45 in `data/raw/classification/validation/melanoma`\n",
      "Classification test nevus:           41 in `data/raw/classification/test/nevus`\n",
      "Classification test melanoma:         9 in `data/raw/classification/test/melanoma`\n"
     ]
    }
   ],
   "source": [
    "print('Segmentation train images:     {:4} in `{}`'.format(len(os.listdir(seg_train_img_dir)),seg_train_img_dir))\n",
    "print('Segmentation train masks:      {:4} in `{}`'.format(len(os.listdir(seg_train_msk_dir)),seg_train_msk_dir)) \n",
    "print('Segmentation validation images:{:4} in `{}`'.format(len(os.listdir(seg_validation_img_dir)),seg_validation_img_dir))\n",
    "print('Segmentation validation masks: {:4} in `{}`'.format(len(os.listdir(seg_validation_msk_dir)),seg_validation_msk_dir))\n",
    "print('Segmentation test images:      {:4} in `{}`'.format(len(os.listdir(seg_test_img_dir)),seg_test_img_dir))\n",
    "print('Segmentation test masks:       {:4} in `{}`'.format(len(os.listdir(seg_test_msk_dir)),seg_test_msk_dir))\n",
    "print('-'*80)\n",
    "print('Classification train nevus:        {:4} in `{}`'.format(len(os.listdir(clf_train_nev_dir)),clf_train_nev_dir))\n",
    "print('Classification train melanoma:     {:4} in `{}`'.format(len(os.listdir(clf_train_mel_dir)),clf_train_mel_dir)) \n",
    "print('Classification validation nevus:   {:4} in `{}`'.format(len(os.listdir(clf_validation_nev_dir)),clf_validation_nev_dir))\n",
    "print('Classification validation melanoma:{:4} in `{}`'.format(len(os.listdir(clf_validation_mel_dir)),clf_validation_mel_dir))\n",
    "print('Classification test nevus:         {:4} in `{}`'.format(len(os.listdir(clf_test_nev_dir)),clf_test_nev_dir))\n",
    "print('Classification test melanoma:      {:4} in `{}`'.format(len(os.listdir(clf_test_mel_dir)),clf_test_mel_dir))"
   ]
  },
  {
   "cell_type": "code",
   "execution_count": null,
   "metadata": {},
   "outputs": [],
   "source": [
    "# run preprocessing on train images\n",
    "%run '2.Preprocessing.ipynb'"
   ]
  }
 ],
 "metadata": {
  "kernelspec": {
   "display_name": "Python 3",
   "language": "python",
   "name": "python3"
  },
  "language_info": {
   "codemirror_mode": {
    "name": "ipython",
    "version": 3
   },
   "file_extension": ".py",
   "mimetype": "text/x-python",
   "name": "python",
   "nbconvert_exporter": "python",
   "pygments_lexer": "ipython3",
   "version": "3.7.7"
  }
 },
 "nbformat": 4,
 "nbformat_minor": 4
}
