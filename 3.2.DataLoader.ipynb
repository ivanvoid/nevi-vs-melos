{
 "cells": [
  {
   "cell_type": "markdown",
   "metadata": {},
   "source": [
    "# Torch DataLoader\n",
    "DataLoader for custum datasets"
   ]
  },
  {
   "cell_type": "code",
   "execution_count": 8,
   "metadata": {},
   "outputs": [],
   "source": [
    "# check if this notebook called from main one\n",
    "try: IS_MAIN\n",
    "except: IS_MAIN = False"
   ]
  },
  {
   "cell_type": "code",
   "execution_count": 14,
   "metadata": {},
   "outputs": [
    {
     "name": "stdout",
     "output_type": "stream",
     "text": [
      "DataLoader mode: STANDALONE\n"
     ]
    }
   ],
   "source": [
    "# setup necessary parameters\n",
    "if IS_MAIN:\n",
    "    print('DataLoader mode: MAIN')\n",
    "    batch_size = 64\n",
    "else:\n",
    "    print('DataLoader mode: STANDALONE')\n",
    "    batch_size = 32\n",
    "    test_folder = 'data/transforms/segmentation/test'\n",
    "    train_folder = 'data/transforms/segmentation/train'\n",
    "    validation_folder = 'data/transforms/segmentation/validation'   "
   ]
  },
  {
   "cell_type": "code",
   "execution_count": 15,
   "metadata": {},
   "outputs": [],
   "source": [
    "# Import ISICDataset_geg\n",
    "%run '3.1.Dataset.ipynb'\n",
    "\n",
    "# Import custum transformers\n",
    "%run '3.3.Transformers.ipynb'"
   ]
  },
  {
   "cell_type": "code",
   "execution_count": 18,
   "metadata": {},
   "outputs": [],
   "source": [
    "from torch.utils.data import DataLoader \n",
    "\n",
    "loader_parameters = {\n",
    "    'batch_size': batch_size,\n",
    "    'shuffle': False,\n",
    "    'num_workers': 8,\n",
    "    'drop_last': False\n",
    "}\n",
    "\n",
    "custom_transforms = [\n",
    "    ToTensor()\n",
    "]\n",
    "\n",
    "def make_loader(foldername, loader_parameters, transforms):\n",
    "    dataset = ISICDataset_seg(foldername, transforms)\n",
    "    return DataLoader(dataset, **loader_parameters)\n",
    "\n",
    "train_loader = make_loader(train_folder, loader_parameters, custom_transforms)\n",
    "validation_loader = make_loader(validation_folder, loader_parameters, custom_transforms)\n",
    "test_loader = make_loader(test_folder, loader_parameters, custom_transforms)"
   ]
  }
 ],
 "metadata": {
  "kernelspec": {
   "display_name": "Python 3",
   "language": "python",
   "name": "python3"
  },
  "language_info": {
   "codemirror_mode": {
    "name": "ipython",
    "version": 3
   },
   "file_extension": ".py",
   "mimetype": "text/x-python",
   "name": "python",
   "nbconvert_exporter": "python",
   "pygments_lexer": "ipython3",
   "version": "3.7.7"
  }
 },
 "nbformat": 4,
 "nbformat_minor": 4
}
