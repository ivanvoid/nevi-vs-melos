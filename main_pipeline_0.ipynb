{
 "cells": [
  {
   "cell_type": "markdown",
   "metadata": {},
   "source": [
    "# Main pipeline\n",
    "For main pipeline will use full set of data.\n",
    "If you run any of parts separately will be used small amount of data,  \n",
    "for development simplification purposes.  \n",
    "Function print was rewritten for logging purposes "
   ]
  },
  {
   "cell_type": "code",
   "execution_count": 2,
   "metadata": {},
   "outputs": [],
   "source": [
    "import print_log\n",
    "\n",
    "IS_MAIN = True\n",
    "original_print = print"
   ]
  },
  {
   "cell_type": "code",
   "execution_count": null,
   "metadata": {},
   "outputs": [],
   "source": [
    "print = print_log.create('DataCollector', './logs/datacollector.log', 'DEBUG')"
   ]
  },
  {
   "cell_type": "code",
   "execution_count": 3,
   "metadata": {},
   "outputs": [
    {
     "name": "stderr",
     "output_type": "stream",
     "text": [
      "2020-07-15 13:56:32,081 - DataCollector - INFO - DataLoader mode: MAIN\n",
      "2020-07-15 13:56:35,769 - DataCollector - INFO - Requested 600 images names.\n",
      "2020-07-15 13:56:53,498 - DataCollector - INFO - Loaded information about 600 images.\n",
      "2020-07-15 13:56:53,520 - DataCollector - INFO - Number of valid images: 600.\n",
      "2020-07-15 13:56:53,526 - DataCollector - INFO - Writing metadata to CSV: images_info.csv\n",
      "2020-07-15 13:57:24,897 - DataCollector - INFO - Load 600 images.\n",
      "2020-07-15 13:57:24,920 - DataCollector - INFO - After reload in folder data/ISIC/images: 600 files.\n",
      "2020-07-15 13:57:42,234 - DataCollector - INFO - Load 600 info about masks.\n",
      "2020-07-15 13:57:42,259 - DataCollector - INFO - After reload in folder data/ISIC/info_masks: 600 files.\n",
      "2020-07-15 13:57:42,275 - DataCollector - INFO - Number of segmentation info files: 600\n",
      "2020-07-15 13:57:42,278 - DataCollector - INFO - Writing metadata to CSV: masks_info.csv\n",
      "2020-07-15 13:58:00,209 - DataCollector - INFO - Load 596 info about masks.\n",
      "2020-07-15 13:58:01,399 - DataCollector - INFO - After reload in folder data/ISIC/masks: 600 files.\n"
     ]
    }
   ],
   "source": [
    "%run '0.DataCollector.ipynb'"
   ]
  },
  {
   "cell_type": "code",
   "execution_count": null,
   "metadata": {},
   "outputs": [],
   "source": [
    "print = print_log.create('DataSplitter', './logs/datasplitter.log', 'DEBUG')"
   ]
  },
  {
   "cell_type": "code",
   "execution_count": 6,
   "metadata": {
    "collapsed": true,
    "jupyter": {
     "outputs_hidden": true
    }
   },
   "outputs": [
    {
     "name": "stderr",
     "output_type": "stream",
     "text": [
      "2020-07-15 13:58:34,899 - DataSplitter - INFO - DataSplitter mode: MAIN\n",
      "2020-07-15 13:58:34,899 - DataSplitter - INFO - DataSplitter mode: MAIN\n",
      "2020-07-15 13:58:34,899 - DataSplitter - INFO - DataSplitter mode: MAIN\n",
      "2020-07-15 13:58:34,908 - DataSplitter - INFO - Total images:     600\n",
      "2020-07-15 13:58:34,908 - DataSplitter - INFO - Total images:     600\n",
      "2020-07-15 13:58:34,908 - DataSplitter - INFO - Total images:     600\n",
      "2020-07-15 13:58:34,909 - DataSplitter - INFO - Train split:      420\n",
      "2020-07-15 13:58:34,909 - DataSplitter - INFO - Train split:      420\n",
      "2020-07-15 13:58:34,909 - DataSplitter - INFO - Train split:      420\n",
      "2020-07-15 13:58:34,910 - DataSplitter - INFO - Validation split: 60\n",
      "2020-07-15 13:58:34,910 - DataSplitter - INFO - Validation split: 60\n",
      "2020-07-15 13:58:34,910 - DataSplitter - INFO - Validation split: 60\n",
      "2020-07-15 13:58:34,911 - DataSplitter - INFO - Test split:       120\n",
      "2020-07-15 13:58:34,911 - DataSplitter - INFO - Test split:       120\n",
      "2020-07-15 13:58:34,911 - DataSplitter - INFO - Test split:       120\n",
      "2020-07-15 13:58:34,912 - DataSplitter - INFO - -----------------------\n",
      "2020-07-15 13:58:34,912 - DataSplitter - INFO - -----------------------\n",
      "2020-07-15 13:58:34,912 - DataSplitter - INFO - -----------------------\n",
      "2020-07-15 13:58:34,913 - DataSplitter - INFO - Split sum:        600\n",
      "2020-07-15 13:58:34,913 - DataSplitter - INFO - Split sum:        600\n",
      "2020-07-15 13:58:34,913 - DataSplitter - INFO - Split sum:        600\n",
      "2020-07-15 13:58:34,917 - DataSplitter - INFO - Copy images and masks into the folders...\n",
      "2020-07-15 13:58:34,917 - DataSplitter - INFO - Copy images and masks into the folders...\n",
      "2020-07-15 13:58:34,917 - DataSplitter - INFO - Copy images and masks into the folders...\n",
      "2020-07-15 13:58:35,611 - DataSplitter - INFO - done.\n",
      "2020-07-15 13:58:35,611 - DataSplitter - INFO - done.\n",
      "2020-07-15 13:58:35,611 - DataSplitter - INFO - done.\n",
      "2020-07-15 13:58:35,614 - DataSplitter - INFO - Total training images:    420 in `data/train/images`\n",
      "2020-07-15 13:58:35,614 - DataSplitter - INFO - Total training images:    420 in `data/train/images`\n",
      "2020-07-15 13:58:35,614 - DataSplitter - INFO - Total training images:    420 in `data/train/images`\n",
      "2020-07-15 13:58:35,616 - DataSplitter - INFO - Total training masks:     420 in `data/train/masks`\n",
      "2020-07-15 13:58:35,616 - DataSplitter - INFO - Total training masks:     420 in `data/train/masks`\n",
      "2020-07-15 13:58:35,616 - DataSplitter - INFO - Total training masks:     420 in `data/train/masks`\n",
      "2020-07-15 13:58:35,617 - DataSplitter - INFO - Total validation images:   60 in `data/validation/images`\n",
      "2020-07-15 13:58:35,617 - DataSplitter - INFO - Total validation images:   60 in `data/validation/images`\n",
      "2020-07-15 13:58:35,617 - DataSplitter - INFO - Total validation images:   60 in `data/validation/images`\n",
      "2020-07-15 13:58:35,618 - DataSplitter - INFO - Total validation masks:    60 in `data/validation/masks`\n",
      "2020-07-15 13:58:35,618 - DataSplitter - INFO - Total validation masks:    60 in `data/validation/masks`\n",
      "2020-07-15 13:58:35,618 - DataSplitter - INFO - Total validation masks:    60 in `data/validation/masks`\n",
      "2020-07-15 13:58:35,619 - DataSplitter - INFO - Total test images:        120 in `data/test/images`\n",
      "2020-07-15 13:58:35,619 - DataSplitter - INFO - Total test images:        120 in `data/test/images`\n",
      "2020-07-15 13:58:35,619 - DataSplitter - INFO - Total test images:        120 in `data/test/images`\n",
      "2020-07-15 13:58:35,620 - DataSplitter - INFO - Total test masks:         120 in `data/test/masks`\n",
      "2020-07-15 13:58:35,620 - DataSplitter - INFO - Total test masks:         120 in `data/test/masks`\n",
      "2020-07-15 13:58:35,620 - DataSplitter - INFO - Total test masks:         120 in `data/test/masks`\n"
     ]
    }
   ],
   "source": [
    "%run '1.DataSplitter.ipynb'"
   ]
  },
  {
   "cell_type": "code",
   "execution_count": 7,
   "metadata": {},
   "outputs": [],
   "source": [
    "print = print_log.create('Segmentation', './logs/segmentation.log', 'DEBUG')"
   ]
  },
  {
   "cell_type": "code",
   "execution_count": 9,
   "metadata": {},
   "outputs": [
    {
     "name": "stderr",
     "output_type": "stream",
     "text": [
      "2020-07-15 14:10:41,270 - Segmentation - INFO - Segmentation mode: MAIN\n",
      "2020-07-15 14:10:41,271 - Segmentation - INFO - Creating Dataset and Dataloader.\n",
      "2020-07-15 14:10:41,274 - Segmentation - INFO - DataLoader mode: MAIN\n",
      "2020-07-15 14:10:41,283 - Segmentation - INFO - Loading model.\n",
      "Using cache found in /home/ivan/.cache/torch/hub/mateuszbuda_brain-segmentation-pytorch_master\n",
      "2020-07-15 14:10:49,769 - Segmentation - INFO - Epoch[ 1/ 5] loss: 2.5557, val_loss: 3.3805\n",
      "2020-07-15 14:10:58,052 - Segmentation - INFO - Epoch[ 2/ 5] loss: 1.0326, val_loss: 1.9805\n",
      "2020-07-15 14:11:06,332 - Segmentation - INFO - Epoch[ 3/ 5] loss: 0.6662, val_loss: 1.1784\n",
      "2020-07-15 14:11:14,610 - Segmentation - INFO - Epoch[ 4/ 5] loss: 0.4864, val_loss: 0.9283\n",
      "2020-07-15 14:11:22,938 - Segmentation - INFO - Epoch[ 5/ 5] loss: 0.3806, val_loss: 0.7810\n",
      "2020-07-15 14:11:22,939 - Segmentation - INFO - Training done.\n",
      "2020-07-15 14:11:22,940 - Segmentation - INFO - Saving model.\n",
      "2020-07-15 14:11:22,964 - Segmentation - INFO - Generating masks for train data.\n",
      "2020-07-15 14:11:27,890 - Segmentation - INFO - done.\n"
     ]
    }
   ],
   "source": [
    "%run '3.Segmentation.ipynb'"
   ]
  }
 ],
 "metadata": {
  "kernelspec": {
   "display_name": "Python 3",
   "language": "python",
   "name": "python3"
  },
  "language_info": {
   "codemirror_mode": {
    "name": "ipython",
    "version": 3
   },
   "file_extension": ".py",
   "mimetype": "text/x-python",
   "name": "python",
   "nbconvert_exporter": "python",
   "pygments_lexer": "ipython3",
   "version": "3.7.7"
  }
 },
 "nbformat": 4,
 "nbformat_minor": 4
}
